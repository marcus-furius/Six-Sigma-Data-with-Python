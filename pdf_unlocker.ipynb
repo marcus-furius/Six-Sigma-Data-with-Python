{
 "cells": [
  {
   "cell_type": "code",
   "execution_count": 2,
   "metadata": {},
   "outputs": [
    {
     "name": "stdout",
     "output_type": "stream",
     "text": [
      "Collecting pypdf\n",
      "  Using cached pypdf-5.3.0-py3-none-any.whl.metadata (7.2 kB)\n",
      "Downloading pypdf-5.3.0-py3-none-any.whl (300 kB)\n",
      "   ---------------------------------------- 0.0/300.7 kB ? eta -:--:--\n",
      "   ---------------------------------- ----- 256.0/300.7 kB 7.9 MB/s eta 0:00:01\n",
      "   ---------------------------------------- 300.7/300.7 kB 6.2 MB/s eta 0:00:00\n",
      "Installing collected packages: pypdf\n",
      "Successfully installed pypdf-5.3.0\n",
      "Note: you may need to restart the kernel to use updated packages.\n"
     ]
    },
    {
     "name": "stderr",
     "output_type": "stream",
     "text": [
      "\n",
      "[notice] A new release of pip is available: 24.0 -> 25.0.1\n",
      "[notice] To update, run: python.exe -m pip install --upgrade pip\n"
     ]
    }
   ],
   "source": [
    "#!/usr/bin/env python\n",
    "\n",
    "import os\n",
    "import subprocess\n",
    "import sys\n",
    "%pip install pypdf\n",
    "from pypdf import PdfReader  # Using pypdf to check encryption\n",
    "\n",
    "# Ghostscript path for Windows (Modify if needed)\n",
    "GHOSTSCRIPT_PATH = r\"C:\\Users\\dharris\\OneDrive - Jazzpharma.com\\Documents\\Ghostscript\\App\\bin\\gswin64c.exe\"\n",
    "\n",
    "def is_pdf_encrypted(pdf_path):\n",
    "    \"\"\"Check if the PDF is encrypted using PyPDF.\"\"\"\n",
    "    try:\n",
    "        reader = PdfReader(pdf_path)\n",
    "        return reader.is_encrypted\n",
    "    except Exception as e:\n",
    "        print(f\"Error reading {pdf_path}: {e}\")\n",
    "        return False\n",
    "\n",
    "def unlock_pdfs_in_folder(folder_path):\n",
    "    \"\"\"Iterate through all PDFs in a folder and unlock only encrypted ones.\"\"\"\n",
    "    if not os.path.exists(folder_path):\n",
    "        print(f\"Error: The folder '{folder_path}' does not exist.\")\n",
    "        return\n",
    "\n",
    "    # Get all PDFs in the folder\n",
    "    pdf_files = [f for f in os.listdir(folder_path) if f.lower().endswith(\".pdf\")]\n",
    "    \n",
    "    if not pdf_files:\n",
    "        print(\"No PDF files found in the folder.\")\n",
    "        return\n",
    "\n",
    "    for pdf_file in pdf_files:\n",
    "        input_pdf = os.path.join(folder_path, pdf_file)\n",
    "        output_pdf = os.path.join(folder_path, pdf_file.replace(\".pdf\", \"_UNLOCKED.pdf\"))\n",
    "\n",
    "        # Check if the PDF is encrypted\n",
    "        if not is_pdf_encrypted(input_pdf):\n",
    "            print(f\"Skipping: {pdf_file} (Not Encrypted)\")\n",
    "            continue\n",
    "\n",
    "        print(f\"Unlocking: {pdf_file} (Encrypted)\")\n",
    "\n",
    "        # Ghostscript command\n",
    "        gs_command = [\n",
    "            GHOSTSCRIPT_PATH,\n",
    "            \"-dSAFER\", \"-dBATCH\", \"-dNOPAUSE\",\n",
    "            \"-sDEVICE=pdfwrite\",\n",
    "            \"-sPDFPassword=\",\n",
    "            \"-dPDFSETTINGS=/prepress\",\n",
    "            \"-dPassThroughJPEGImages=true\",\n",
    "            f\"-sOutputFile={output_pdf}\",\n",
    "            input_pdf\n",
    "        ]\n",
    "\n",
    "        try:\n",
    "            subprocess.run(gs_command, check=True)\n",
    "            print(f\"Unlocked PDF saved: {output_pdf}\\n\")\n",
    "        except subprocess.CalledProcessError as e:\n",
    "            print(f\"Error unlocking {pdf_file}: {e}\")\n"
   ]
  },
  {
   "cell_type": "code",
   "execution_count": 3,
   "metadata": {},
   "outputs": [],
   "source": [
    "pdf_folder = r\"C:\\Users\\dharris\\OneDrive - Jazzpharma.com\\Project\\Reference\\GAMP Guides\""
   ]
  },
  {
   "cell_type": "code",
   "execution_count": 4,
   "metadata": {},
   "outputs": [
    {
     "name": "stdout",
     "output_type": "stream",
     "text": [
      "Unlocking: 4EDADL-Watermarked-345670.pdf (Encrypted)\n"
     ]
    },
    {
     "name": "stderr",
     "output_type": "stream",
     "text": [
      "Ignoring wrong pointing object 16789 0 (offset 0)\n"
     ]
    },
    {
     "name": "stdout",
     "output_type": "stream",
     "text": [
      "Unlocked PDF saved: C:\\Users\\dharris\\OneDrive - Jazzpharma.com\\Project\\Reference\\GAMP Guides\\4EDADL-Watermarked-345670_UNLOCKED.pdf\n",
      "\n",
      "Unlocking: 4ERSDL-Watermarked-345670.pdf (Encrypted)\n",
      "Unlocked PDF saved: C:\\Users\\dharris\\OneDrive - Jazzpharma.com\\Project\\Reference\\GAMP Guides\\4ERSDL-Watermarked-345670_UNLOCKED.pdf\n",
      "\n",
      "Unlocking: 4ITDL-Watermarked-345670.pdf (Encrypted)\n",
      "Unlocked PDF saved: C:\\Users\\dharris\\OneDrive - Jazzpharma.com\\Project\\Reference\\GAMP Guides\\4ITDL-Watermarked-345670_UNLOCKED.pdf\n",
      "\n",
      "Unlocking: 5BOUNDDL-Watermarked-345670.pdf (Encrypted)\n",
      "Unlocked PDF saved: C:\\Users\\dharris\\OneDrive - Jazzpharma.com\\Project\\Reference\\GAMP Guides\\5BOUNDDL-Watermarked-345670_UNLOCKED.pdf\n",
      "\n",
      "Skipping: CULTRLEXCDL-Watermarked-345670.pdf (Not Encrypted)\n",
      "Skipping: GAMP 5 Version 2_unlocked.pdf (Not Encrypted)\n",
      "Unlocking: GAMP Good Practice Guide Enabling Innovation - Critical Thinking, Agile, IT Service Management.pdf (Encrypted)\n",
      "Unlocked PDF saved: C:\\Users\\dharris\\OneDrive - Jazzpharma.com\\Project\\Reference\\GAMP Guides\\GAMP Good Practice Guide Enabling Innovation - Critical Thinking, Agile, IT Service Management_UNLOCKED.pdf\n",
      "\n",
      "Unlocking: GAMP Good Practise Guide A Risk Based Approach to Regulated Mobile Applications.pdf (Encrypted)\n",
      "Unlocked PDF saved: C:\\Users\\dharris\\OneDrive - Jazzpharma.com\\Project\\Reference\\GAMP Guides\\GAMP Good Practise Guide A Risk Based Approach to Regulated Mobile Applications_UNLOCKED.pdf\n",
      "\n",
      "Unlocking: GAMP Good Practise Guide Global Information Systems Control and Compliance.pdf (Encrypted)\n",
      "Unlocked PDF saved: C:\\Users\\dharris\\OneDrive - Jazzpharma.com\\Project\\Reference\\GAMP Guides\\GAMP Good Practise Guide Global Information Systems Control and Compliance_UNLOCKED.pdf\n",
      "\n",
      "Skipping: GGPGDICONDL-Watermarked-345670-OUT.pdf (Not Encrypted)\n",
      "Unlocking: GGPGDICONDL-Watermarked-345670.pdf (Encrypted)\n",
      "Unlocked PDF saved: C:\\Users\\dharris\\OneDrive - Jazzpharma.com\\Project\\Reference\\GAMP Guides\\GGPGDICONDL-Watermarked-345670_UNLOCKED.pdf\n",
      "\n",
      "Unlocking: GGPGECLINDL-Watermarked-345670.pdf (Encrypted)\n",
      "Unlocked PDF saved: C:\\Users\\dharris\\OneDrive - Jazzpharma.com\\Project\\Reference\\GAMP Guides\\GGPGECLINDL-Watermarked-345670_UNLOCKED.pdf\n",
      "\n",
      "Unlocking: GGPGENABDL-Watermarked-345670.pdf (Encrypted)\n",
      "Unlocked PDF saved: C:\\Users\\dharris\\OneDrive - Jazzpharma.com\\Project\\Reference\\GAMP Guides\\GGPGENABDL-Watermarked-345670_UNLOCKED.pdf\n",
      "\n",
      "Unlocking: GGPGGIS2DL-Watermarked-345670.pdf (Encrypted)\n",
      "Unlocked PDF saved: C:\\Users\\dharris\\OneDrive - Jazzpharma.com\\Project\\Reference\\GAMP Guides\\GGPGGIS2DL-Watermarked-345670_UNLOCKED.pdf\n",
      "\n",
      "Unlocking: GGPGITI2DL-Watermarked-345670.pdf (Encrypted)\n",
      "Unlocked PDF saved: C:\\Users\\dharris\\OneDrive - Jazzpharma.com\\Project\\Reference\\GAMP Guides\\GGPGITI2DL-Watermarked-345670_UNLOCKED.pdf\n",
      "\n",
      "Unlocking: GGPGLABCS2DL-Watermarked-345670.pdf (Encrypted)\n",
      "Unlocked PDF saved: C:\\Users\\dharris\\OneDrive - Jazzpharma.com\\Project\\Reference\\GAMP Guides\\GGPGLABCS2DL-Watermarked-345670_UNLOCKED.pdf\n",
      "\n",
      "Unlocking: GGPGOGCSDL-Watermarked-345670.pdf (Encrypted)\n",
      "Unlocked PDF saved: C:\\Users\\dharris\\OneDrive - Jazzpharma.com\\Project\\Reference\\GAMP Guides\\GGPGOGCSDL-Watermarked-345670_UNLOCKED.pdf\n",
      "\n",
      "Skipping: GGPGOGCSDL-Watermarked-345670.pdf_UNLOCKED.pdf (Not Encrypted)\n",
      "Unlocking: GGPGTEST2DL-Watermarked-345670.pdf (Encrypted)\n"
     ]
    },
    {
     "ename": "KeyboardInterrupt",
     "evalue": "",
     "output_type": "error",
     "traceback": [
      "\u001b[1;31m---------------------------------------------------------------------------\u001b[0m",
      "\u001b[1;31mKeyboardInterrupt\u001b[0m                         Traceback (most recent call last)",
      "Cell \u001b[1;32mIn[4], line 1\u001b[0m\n\u001b[1;32m----> 1\u001b[0m \u001b[43munlock_pdfs_in_folder\u001b[49m\u001b[43m(\u001b[49m\u001b[43mpdf_folder\u001b[49m\u001b[43m)\u001b[49m\n",
      "Cell \u001b[1;32mIn[2], line 58\u001b[0m, in \u001b[0;36munlock_pdfs_in_folder\u001b[1;34m(folder_path)\u001b[0m\n\u001b[0;32m     46\u001b[0m gs_command \u001b[38;5;241m=\u001b[39m [\n\u001b[0;32m     47\u001b[0m     GHOSTSCRIPT_PATH,\n\u001b[0;32m     48\u001b[0m     \u001b[38;5;124m\"\u001b[39m\u001b[38;5;124m-dSAFER\u001b[39m\u001b[38;5;124m\"\u001b[39m, \u001b[38;5;124m\"\u001b[39m\u001b[38;5;124m-dBATCH\u001b[39m\u001b[38;5;124m\"\u001b[39m, \u001b[38;5;124m\"\u001b[39m\u001b[38;5;124m-dNOPAUSE\u001b[39m\u001b[38;5;124m\"\u001b[39m,\n\u001b[1;32m   (...)\u001b[0m\n\u001b[0;32m     54\u001b[0m     input_pdf\n\u001b[0;32m     55\u001b[0m ]\n\u001b[0;32m     57\u001b[0m \u001b[38;5;28;01mtry\u001b[39;00m:\n\u001b[1;32m---> 58\u001b[0m     \u001b[43msubprocess\u001b[49m\u001b[38;5;241;43m.\u001b[39;49m\u001b[43mrun\u001b[49m\u001b[43m(\u001b[49m\u001b[43mgs_command\u001b[49m\u001b[43m,\u001b[49m\u001b[43m \u001b[49m\u001b[43mcheck\u001b[49m\u001b[38;5;241;43m=\u001b[39;49m\u001b[38;5;28;43;01mTrue\u001b[39;49;00m\u001b[43m)\u001b[49m\n\u001b[0;32m     59\u001b[0m     \u001b[38;5;28mprint\u001b[39m(\u001b[38;5;124mf\u001b[39m\u001b[38;5;124m\"\u001b[39m\u001b[38;5;124mUnlocked PDF saved: \u001b[39m\u001b[38;5;132;01m{\u001b[39;00moutput_pdf\u001b[38;5;132;01m}\u001b[39;00m\u001b[38;5;130;01m\\n\u001b[39;00m\u001b[38;5;124m\"\u001b[39m)\n\u001b[0;32m     60\u001b[0m \u001b[38;5;28;01mexcept\u001b[39;00m subprocess\u001b[38;5;241m.\u001b[39mCalledProcessError \u001b[38;5;28;01mas\u001b[39;00m e:\n",
      "File \u001b[1;32mc:\\Users\\dharris\\AppData\\Local\\Programs\\Python\\Python311\\Lib\\subprocess.py:550\u001b[0m, in \u001b[0;36mrun\u001b[1;34m(input, capture_output, timeout, check, *popenargs, **kwargs)\u001b[0m\n\u001b[0;32m    548\u001b[0m \u001b[38;5;28;01mwith\u001b[39;00m Popen(\u001b[38;5;241m*\u001b[39mpopenargs, \u001b[38;5;241m*\u001b[39m\u001b[38;5;241m*\u001b[39mkwargs) \u001b[38;5;28;01mas\u001b[39;00m process:\n\u001b[0;32m    549\u001b[0m     \u001b[38;5;28;01mtry\u001b[39;00m:\n\u001b[1;32m--> 550\u001b[0m         stdout, stderr \u001b[38;5;241m=\u001b[39m \u001b[43mprocess\u001b[49m\u001b[38;5;241;43m.\u001b[39;49m\u001b[43mcommunicate\u001b[49m\u001b[43m(\u001b[49m\u001b[38;5;28;43minput\u001b[39;49m\u001b[43m,\u001b[49m\u001b[43m \u001b[49m\u001b[43mtimeout\u001b[49m\u001b[38;5;241;43m=\u001b[39;49m\u001b[43mtimeout\u001b[49m\u001b[43m)\u001b[49m\n\u001b[0;32m    551\u001b[0m     \u001b[38;5;28;01mexcept\u001b[39;00m TimeoutExpired \u001b[38;5;28;01mas\u001b[39;00m exc:\n\u001b[0;32m    552\u001b[0m         process\u001b[38;5;241m.\u001b[39mkill()\n",
      "File \u001b[1;32mc:\\Users\\dharris\\AppData\\Local\\Programs\\Python\\Python311\\Lib\\subprocess.py:1199\u001b[0m, in \u001b[0;36mPopen.communicate\u001b[1;34m(self, input, timeout)\u001b[0m\n\u001b[0;32m   1197\u001b[0m         stderr \u001b[38;5;241m=\u001b[39m \u001b[38;5;28mself\u001b[39m\u001b[38;5;241m.\u001b[39mstderr\u001b[38;5;241m.\u001b[39mread()\n\u001b[0;32m   1198\u001b[0m         \u001b[38;5;28mself\u001b[39m\u001b[38;5;241m.\u001b[39mstderr\u001b[38;5;241m.\u001b[39mclose()\n\u001b[1;32m-> 1199\u001b[0m     \u001b[38;5;28;43mself\u001b[39;49m\u001b[38;5;241;43m.\u001b[39;49m\u001b[43mwait\u001b[49m\u001b[43m(\u001b[49m\u001b[43m)\u001b[49m\n\u001b[0;32m   1200\u001b[0m \u001b[38;5;28;01melse\u001b[39;00m:\n\u001b[0;32m   1201\u001b[0m     \u001b[38;5;28;01mif\u001b[39;00m timeout \u001b[38;5;129;01mis\u001b[39;00m \u001b[38;5;129;01mnot\u001b[39;00m \u001b[38;5;28;01mNone\u001b[39;00m:\n",
      "File \u001b[1;32mc:\\Users\\dharris\\AppData\\Local\\Programs\\Python\\Python311\\Lib\\subprocess.py:1262\u001b[0m, in \u001b[0;36mPopen.wait\u001b[1;34m(self, timeout)\u001b[0m\n\u001b[0;32m   1260\u001b[0m     endtime \u001b[38;5;241m=\u001b[39m _time() \u001b[38;5;241m+\u001b[39m timeout\n\u001b[0;32m   1261\u001b[0m \u001b[38;5;28;01mtry\u001b[39;00m:\n\u001b[1;32m-> 1262\u001b[0m     \u001b[38;5;28;01mreturn\u001b[39;00m \u001b[38;5;28;43mself\u001b[39;49m\u001b[38;5;241;43m.\u001b[39;49m\u001b[43m_wait\u001b[49m\u001b[43m(\u001b[49m\u001b[43mtimeout\u001b[49m\u001b[38;5;241;43m=\u001b[39;49m\u001b[43mtimeout\u001b[49m\u001b[43m)\u001b[49m\n\u001b[0;32m   1263\u001b[0m \u001b[38;5;28;01mexcept\u001b[39;00m \u001b[38;5;167;01mKeyboardInterrupt\u001b[39;00m:\n\u001b[0;32m   1264\u001b[0m     \u001b[38;5;66;03m# https://bugs.python.org/issue25942\u001b[39;00m\n\u001b[0;32m   1265\u001b[0m     \u001b[38;5;66;03m# The first keyboard interrupt waits briefly for the child to\u001b[39;00m\n\u001b[0;32m   1266\u001b[0m     \u001b[38;5;66;03m# exit under the common assumption that it also received the ^C\u001b[39;00m\n\u001b[0;32m   1267\u001b[0m     \u001b[38;5;66;03m# generated SIGINT and will exit rapidly.\u001b[39;00m\n\u001b[0;32m   1268\u001b[0m     \u001b[38;5;28;01mif\u001b[39;00m timeout \u001b[38;5;129;01mis\u001b[39;00m \u001b[38;5;129;01mnot\u001b[39;00m \u001b[38;5;28;01mNone\u001b[39;00m:\n",
      "File \u001b[1;32mc:\\Users\\dharris\\AppData\\Local\\Programs\\Python\\Python311\\Lib\\subprocess.py:1559\u001b[0m, in \u001b[0;36mPopen._wait\u001b[1;34m(self, timeout)\u001b[0m\n\u001b[0;32m   1556\u001b[0m     timeout_millis \u001b[38;5;241m=\u001b[39m \u001b[38;5;28mint\u001b[39m(timeout \u001b[38;5;241m*\u001b[39m \u001b[38;5;241m1000\u001b[39m)\n\u001b[0;32m   1557\u001b[0m \u001b[38;5;28;01mif\u001b[39;00m \u001b[38;5;28mself\u001b[39m\u001b[38;5;241m.\u001b[39mreturncode \u001b[38;5;129;01mis\u001b[39;00m \u001b[38;5;28;01mNone\u001b[39;00m:\n\u001b[0;32m   1558\u001b[0m     \u001b[38;5;66;03m# API note: Returns immediately if timeout_millis == 0.\u001b[39;00m\n\u001b[1;32m-> 1559\u001b[0m     result \u001b[38;5;241m=\u001b[39m _winapi\u001b[38;5;241m.\u001b[39mWaitForSingleObject(\u001b[38;5;28mself\u001b[39m\u001b[38;5;241m.\u001b[39m_handle,\n\u001b[0;32m   1560\u001b[0m                                          timeout_millis)\n\u001b[0;32m   1561\u001b[0m     \u001b[38;5;28;01mif\u001b[39;00m result \u001b[38;5;241m==\u001b[39m _winapi\u001b[38;5;241m.\u001b[39mWAIT_TIMEOUT:\n\u001b[0;32m   1562\u001b[0m         \u001b[38;5;28;01mraise\u001b[39;00m TimeoutExpired(\u001b[38;5;28mself\u001b[39m\u001b[38;5;241m.\u001b[39margs, timeout)\n",
      "\u001b[1;31mKeyboardInterrupt\u001b[0m: "
     ]
    }
   ],
   "source": [
    "unlock_pdfs_in_folder(pdf_folder)"
   ]
  }
 ],
 "metadata": {
  "kernelspec": {
   "display_name": "Python 3",
   "language": "python",
   "name": "python3"
  },
  "language_info": {
   "codemirror_mode": {
    "name": "ipython",
    "version": 3
   },
   "file_extension": ".py",
   "mimetype": "text/x-python",
   "name": "python",
   "nbconvert_exporter": "python",
   "pygments_lexer": "ipython3",
   "version": "3.11.3"
  }
 },
 "nbformat": 4,
 "nbformat_minor": 2
}
